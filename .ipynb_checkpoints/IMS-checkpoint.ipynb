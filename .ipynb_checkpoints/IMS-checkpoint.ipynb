{
 "cells": [
  {
   "cell_type": "code",
   "execution_count": 2,
   "id": "d2243b37",
   "metadata": {},
   "outputs": [
    {
     "name": "stdout",
     "output_type": "stream",
     "text": [
      "\n",
      "***PRODUCTS AVAILABLE***\n",
      "\n",
      "\n",
      "NOTE: Please check the inventory of products above and make your purchasing decisions accordingly. Thank you.\n",
      "\n",
      "Hi! Do you want to purchase anything today? [y/n]\n",
      "y\n",
      "Enter ID of the product: \n",
      "101\n",
      "Enter quantity you want: \n",
      "5\n"
     ]
    },
    {
     "ename": "NameError",
     "evalue": "name 'i' is not defined",
     "output_type": "error",
     "traceback": [
      "\u001b[1;31m---------------------------------------------------------------------------\u001b[0m",
      "\u001b[1;31mNameError\u001b[0m                                 Traceback (most recent call last)",
      "\u001b[1;32m<ipython-input-2-c211b0a7ac5f>\u001b[0m in \u001b[0;36m<module>\u001b[1;34m\u001b[0m\n\u001b[0;32m     42\u001b[0m     \u001b[0mprint\u001b[0m\u001b[1;33m(\u001b[0m\u001b[1;34m'Enter quantity you want: '\u001b[0m\u001b[1;33m)\u001b[0m\u001b[1;33m\u001b[0m\u001b[1;33m\u001b[0m\u001b[0m\n\u001b[0;32m     43\u001b[0m     \u001b[0mquan\u001b[0m\u001b[1;33m=\u001b[0m\u001b[0mint\u001b[0m\u001b[1;33m(\u001b[0m\u001b[0minput\u001b[0m\u001b[1;33m(\u001b[0m\u001b[1;33m)\u001b[0m\u001b[1;33m)\u001b[0m\u001b[1;33m\u001b[0m\u001b[1;33m\u001b[0m\u001b[0m\n\u001b[1;32m---> 44\u001b[1;33m     \u001b[1;32mif\u001b[0m \u001b[1;33m(\u001b[0m\u001b[0mi\u001b[0m\u001b[1;33m[\u001b[0m\u001b[0mid\u001b[0m\u001b[1;33m]\u001b[0m\u001b[1;33m[\u001b[0m\u001b[1;34m'Quantity'\u001b[0m\u001b[1;33m]\u001b[0m \u001b[1;33m<\u001b[0m \u001b[1;36m0\u001b[0m \u001b[1;32mor\u001b[0m \u001b[0mquan\u001b[0m \u001b[1;33m>\u001b[0m \u001b[0mi\u001b[0m\u001b[1;33m[\u001b[0m\u001b[0mid\u001b[0m\u001b[1;33m]\u001b[0m\u001b[1;33m[\u001b[0m\u001b[1;34m'Quantity'\u001b[0m\u001b[1;33m]\u001b[0m\u001b[1;33m)\u001b[0m\u001b[1;33m:\u001b[0m\u001b[1;33m\u001b[0m\u001b[1;33m\u001b[0m\u001b[0m\n\u001b[0m\u001b[0;32m     45\u001b[0m         \u001b[0mprint\u001b[0m\u001b[1;33m(\u001b[0m\u001b[1;34m'Out of stock!'\u001b[0m\u001b[1;33m)\u001b[0m\u001b[1;33m\u001b[0m\u001b[1;33m\u001b[0m\u001b[0m\n\u001b[0;32m     46\u001b[0m     \u001b[1;32melse\u001b[0m\u001b[1;33m:\u001b[0m\u001b[1;33m\u001b[0m\u001b[1;33m\u001b[0m\u001b[0m\n",
      "\u001b[1;31mNameError\u001b[0m: name 'i' is not defined"
     ]
    }
   ],
   "source": [
    "# 10(food) + 10(personal-care) + 10(clothing) = 30 products\n",
    "# 3 categories \n",
    "import os\n",
    "import json\n",
    "from datetime import datetime  \n",
    "from datetime import timedelta\n",
    "\n",
    "if (os.path.exists('record.json')):\n",
    "    pass\n",
    "else:\n",
    "    i={\n",
    "        101:{\"Name\":\"Noodles\",\"Category\":\"Food\",\"Expiry\":str(datetime.now().date()+timedelta(days=200)),\"Quantity\":10,\"Price\":20},\n",
    "        102:{\"Name\":\"Chips\",\"Category\":\"Food\",\"Expiry\":str(datetime.now().date()+timedelta(days=120)),\"Quantity\":10,\"Price\":5},\n",
    "        103:{\"Name\":\"Bread\",\"Category\":\"Food\",\"Expiry\":str(datetime.now().date()+timedelta(days=5)),\"Quantity\":10,\"Price\":30},\n",
    "    }\n",
    "    my = json.dumps(i, indent=1)\n",
    "    f = open('record.json', 'w')\n",
    "    f.write(my)\n",
    "    f.close()\n",
    "\n",
    "    #for x in i:\n",
    " #   print(x)\n",
    "  #  for y in i[x]:\n",
    "   #     print(y, ':', i[x][y])\n",
    "    #print()\n",
    "\n",
    "\n",
    "cart=[]\n",
    "total=0\n",
    "print()\n",
    "print('***PRODUCTS AVAILABLE***') \n",
    "with open('record.json', 'r') as f:\n",
    "    print(f.read())\n",
    "\n",
    "print()\n",
    "print('NOTE: Please check the inventory of products above and make your purchasing decisions accordingly. Thank you.\\n')\n",
    "print('Hi! Do you want to purchase anything today? [y/n]')\n",
    "ch=input()\n",
    "while(ch=='y'):\n",
    "    print('Enter ID of the product: ')\n",
    "    id=int(input())\n",
    "    print('Enter quantity you want: ')\n",
    "    quan=int(input())\n",
    "    if (i[id]['Quantity'] < 0 or quan > i[id]['Quantity']): \n",
    "        print('Out of stock!')\n",
    "    else:\n",
    "        cost=i[id]['Price']*quan\n",
    "        print('Cost is : ',cost)\n",
    "        print('Purchase? [y/n]')\n",
    "        ch=input()\n",
    "        if (ch=='y'):\n",
    "            cart.append(str(i[id]['Name']+' x '+str(quan)))\n",
    "            total += i[id]['Price']*quan\n",
    "            print('\\nItems in your cart: ',cart)\n",
    "            i[id]['Quantity']=i[int(id)]['Quantity']-quan\n",
    "            print('Quantity Remaining (in inventory): ',i[id]['Quantity'])\n",
    "            \n",
    "    print('\\nContinue Shopping? [y/n]')\n",
    "    ch=input()\n",
    "    \n",
    "print()\n",
    "print('Your total is: ', total)\n",
    "print('Please proceed to Checkout.')\n",
    "print('Thank you for shopping with us! Come back soon!')\n",
    "my = json.dumps(i, indent=1)\n",
    "f = open('record.json', 'w')\n",
    "f.write(my)\n",
    "f.close()"
   ]
  }
 ],
 "metadata": {
  "kernelspec": {
   "display_name": "Python 3",
   "language": "python",
   "name": "python3"
  },
  "language_info": {
   "codemirror_mode": {
    "name": "ipython",
    "version": 3
   },
   "file_extension": ".py",
   "mimetype": "text/x-python",
   "name": "python",
   "nbconvert_exporter": "python",
   "pygments_lexer": "ipython3",
   "version": "3.8.8"
  }
 },
 "nbformat": 4,
 "nbformat_minor": 5
}
