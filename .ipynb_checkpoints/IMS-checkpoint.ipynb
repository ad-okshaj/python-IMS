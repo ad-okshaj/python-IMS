{
 "cells": [
  {
   "cell_type": "code",
   "execution_count": null,
   "id": "c92bf37f",
   "metadata": {
    "scrolled": true
   },
   "outputs": [
    {
     "name": "stdout",
     "output_type": "stream",
     "text": [
      "\n",
      "***PRODUCTS AVAILABLE***\n",
      "\n",
      "Do you want to purchase anything today? [y/n]\n"
     ]
    }
   ],
   "source": [
    "# 10(food) + 10(personal-care) + 10(clothing) = 30 products\n",
    "# 3 categories \n",
    "import os\n",
    "import json\n",
    "from datetime import datetime  \n",
    "from datetime import timedelta\n",
    "i={\n",
    "    1001:{\"name\":\"Noodles\",\"category\":\"food\",\"price\":20,\"expdate\":str(datetime.now().date()+timedelta(days=200)),\"quantity\":10},\n",
    "    1002:{\"name\":\"Chips\",\"category\":\"food\",\"price\":5,\"expdate\":str(datetime.now().date()+timedelta(days=120)),\"quantity\":10},\n",
    "    1003:{\"name\":\"Bread\",\"category\":\"food\",\"price\":30,\"expdate\":str(datetime.now().date()+timedelta(days=5)),\"quantity\":10}\n",
    "}\n",
    "\n",
    "\n",
    "my = json.dumps(i)\n",
    "f = open('record.json', 'w')\n",
    "f.write(my)\n",
    "f.close()\n",
    "\n",
    "\n",
    "cart=[]\n",
    "total=0\n",
    "print()\n",
    "print('***PRODUCTS AVAILABLE***') \n",
    "#for x in i:\n",
    " #   print(x)\n",
    "  #  for y in i[x]:\n",
    "   #     print(y, ':', i[x][y])\n",
    "    #print()\n",
    "    \n",
    "cart=[]\n",
    "total=0\n",
    "\n",
    "print()\n",
    "print('Do you want to purchase anything today? [y/n]')\n",
    "ch=input()\n",
    "while(ch=='y'):\n",
    "    print('Enter ID: ')\n",
    "    id=int(input())\n",
    "    print('Enter quantity you want: ')\n",
    "    quan=int(input())\n",
    "    if i[id]['quantity'] < 0: \n",
    "        print('Out of stock!')\n",
    "    else:\n",
    "        cost=i[id]['price']*quan\n",
    "        print('Cost is : ',cost)\n",
    "        print('Purchase? [y/n]')\n",
    "        ch=input()\n",
    "        if (ch=='y'):\n",
    "            i[id]['quantity']=i[int(id)]['quantity']-quan\n",
    "            print('Quantity Remaining: ',i[id]['quantity'])\n",
    "            cart.append(str(i[id]['name']+' x '+str(quan)))\n",
    "            total += i[id]['price']*quan\n",
    "            print('Items in your cart: ',cart)\n",
    "    print('Continue Shopping? [y/n]')\n",
    "    ch=input()\n",
    "    \n",
    "print()\n",
    "print('Your total is: ', total)\n",
    "print('Please proceed to checkout.')\n",
    "print('Thank you for shopping with us! Come back soon!')"
   ]
  },
  {
   "cell_type": "code",
   "execution_count": null,
   "id": "0b02277f",
   "metadata": {},
   "outputs": [],
   "source": [
    "#other products\n",
    "    #1004:{'name':'eggs','category':'food','price':5,'date':datetime.now().date()+timedelta(days=30),},\n",
    "    #1005:{'name':'chocolate','category':'food','price':10,'date':datetime.now().date()+timedelta(days=150),},\n",
    "    #1006:{'name':'fruit juice','category':'food','price':15,'date':datetime.now().date()+timedelta(days=200),},\n",
    "    #1007:{'name':'soft drink','category':'food','price':10,'date':datetime.now().date()+timedelta(days=200),},\n",
    "    #1008:{'name':'salt','category':'food','price':15,'date':datetime.now().date()+timedelta(days=200),},\n",
    "   # 1009:{'name':'sugar','category':'food','price':40,'date':datetime.now().date()+timedelta(days=200),},\n",
    "    #1010:{'name':'rice','category':'food','price':35,'date':datetime.now().date()+timedelta(days=200),},"
   ]
  }
 ],
 "metadata": {
  "kernelspec": {
   "display_name": "Python 3",
   "language": "python",
   "name": "python3"
  },
  "language_info": {
   "codemirror_mode": {
    "name": "ipython",
    "version": 3
   },
   "file_extension": ".py",
   "mimetype": "text/x-python",
   "name": "python",
   "nbconvert_exporter": "python",
   "pygments_lexer": "ipython3",
   "version": "3.8.8"
  }
 },
 "nbformat": 4,
 "nbformat_minor": 5
}
